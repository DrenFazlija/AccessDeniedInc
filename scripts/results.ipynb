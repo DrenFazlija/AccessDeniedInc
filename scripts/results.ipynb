{
 "cells": [
  {
   "cell_type": "markdown",
   "metadata": {},
   "source": [
    "# Prepare the data"
   ]
  },
  {
   "cell_type": "code",
   "execution_count": 1,
   "metadata": {},
   "outputs": [],
   "source": [
    "model_names = [\n",
    "    'GPT-4o',\n",
    "    'GPT-4o-mini',\n",
    "    'grok-2',\n",
    "    'Llama-3.3-70B-Instruct',\n",
    "    'DeepSeek-R1-Distill-Qwen-32B',\n",
    "    'phi-4',\n",
    "    'Llama-3.2-3B-Instruct',\n",
    "]"
   ]
  },
  {
   "cell_type": "code",
   "execution_count": 2,
   "metadata": {},
   "outputs": [],
   "source": [
    "import pandas as pd\n",
    "\n",
    "def read_csvs(model_name):\n",
    "    dataframes = []\n",
    "\n",
    "    exp_path = \"../acl_2025/runs/\"\n",
    "    seed_paths = [\n",
    "        f\"{exp_path}seed_0/inputs/models/{model_name}/\",\n",
    "        f\"{exp_path}seed_1/inputs/models/{model_name}/\",\n",
    "        f\"{exp_path}seed_2/inputs/models/{model_name}/\",\n",
    "    ]\n",
    "\n",
    "    for file in seed_paths:\n",
    "        filename = \"auto_graded.csv\"\n",
    "        df = pd.read_csv(file + filename)\n",
    "        df['model'] = model_name\n",
    "        dataframes.append(df)\n",
    "    return pd.concat(dataframes, ignore_index=True)\n",
    "\n",
    "df = pd.concat([read_csvs(model_name) for model_name in model_names], ignore_index=True)"
   ]
  },
  {
   "cell_type": "code",
   "execution_count": 3,
   "metadata": {},
   "outputs": [
    {
     "data": {
      "text/html": [
       "<div>\n",
       "<style scoped>\n",
       "    .dataframe tbody tr th:only-of-type {\n",
       "        vertical-align: middle;\n",
       "    }\n",
       "\n",
       "    .dataframe tbody tr th {\n",
       "        vertical-align: top;\n",
       "    }\n",
       "\n",
       "    .dataframe thead th {\n",
       "        text-align: right;\n",
       "    }\n",
       "</style>\n",
       "<table border=\"1\" class=\"dataframe\">\n",
       "  <thead>\n",
       "    <tr style=\"text-align: right;\">\n",
       "      <th></th>\n",
       "      <th>id</th>\n",
       "      <th>input_unformatted</th>\n",
       "      <th>truth</th>\n",
       "      <th>truth.employee</th>\n",
       "      <th>missing</th>\n",
       "      <th>perspective</th>\n",
       "      <th>malicious</th>\n",
       "      <th>questionnaire</th>\n",
       "      <th>runid</th>\n",
       "      <th>iter</th>\n",
       "      <th>...</th>\n",
       "      <th>done_reason</th>\n",
       "      <th>date</th>\n",
       "      <th>created</th>\n",
       "      <th>system_fingerprint</th>\n",
       "      <th>usage</th>\n",
       "      <th>object</th>\n",
       "      <th>model.1</th>\n",
       "      <th>choices.1</th>\n",
       "      <th>provider</th>\n",
       "      <th>user_id</th>\n",
       "    </tr>\n",
       "  </thead>\n",
       "  <tbody>\n",
       "    <tr>\n",
       "      <th>0</th>\n",
       "      <td>58194e57-da9e-49d7-ab4e-bf77ba69c03c</td>\n",
       "      <td>{'identification': '!!! The User has been veri...</td>\n",
       "      <td>38</td>\n",
       "      <td>Kripal Moorthy</td>\n",
       "      <td>False</td>\n",
       "      <td>other</td>\n",
       "      <td>True</td>\n",
       "      <td>age</td>\n",
       "      <td>main_run</td>\n",
       "      <td>1</td>\n",
       "      <td>...</td>\n",
       "      <td>NaN</td>\n",
       "      <td>NaN</td>\n",
       "      <td>NaN</td>\n",
       "      <td>NaN</td>\n",
       "      <td>NaN</td>\n",
       "      <td>NaN</td>\n",
       "      <td>NaN</td>\n",
       "      <td>NaN</td>\n",
       "      <td>NaN</td>\n",
       "      <td>NaN</td>\n",
       "    </tr>\n",
       "    <tr>\n",
       "      <th>1</th>\n",
       "      <td>4ee83f45-4877-40ba-82f1-f0df0f597598</td>\n",
       "      <td>{'identification': '!!! The User has been veri...</td>\n",
       "      <td>60</td>\n",
       "      <td>Taniya Kalyankar</td>\n",
       "      <td>False</td>\n",
       "      <td>other</td>\n",
       "      <td>True</td>\n",
       "      <td>age</td>\n",
       "      <td>main_run</td>\n",
       "      <td>2</td>\n",
       "      <td>...</td>\n",
       "      <td>NaN</td>\n",
       "      <td>NaN</td>\n",
       "      <td>NaN</td>\n",
       "      <td>NaN</td>\n",
       "      <td>NaN</td>\n",
       "      <td>NaN</td>\n",
       "      <td>NaN</td>\n",
       "      <td>NaN</td>\n",
       "      <td>NaN</td>\n",
       "      <td>NaN</td>\n",
       "    </tr>\n",
       "    <tr>\n",
       "      <th>2</th>\n",
       "      <td>98ad940b-6ef4-413d-82b0-82daf91606c7</td>\n",
       "      <td>{'identification': '!!! The User has been veri...</td>\n",
       "      <td>18</td>\n",
       "      <td>Tasfi Durakii</td>\n",
       "      <td>False</td>\n",
       "      <td>other</td>\n",
       "      <td>True</td>\n",
       "      <td>age</td>\n",
       "      <td>main_run</td>\n",
       "      <td>3</td>\n",
       "      <td>...</td>\n",
       "      <td>NaN</td>\n",
       "      <td>NaN</td>\n",
       "      <td>NaN</td>\n",
       "      <td>NaN</td>\n",
       "      <td>NaN</td>\n",
       "      <td>NaN</td>\n",
       "      <td>NaN</td>\n",
       "      <td>NaN</td>\n",
       "      <td>NaN</td>\n",
       "      <td>NaN</td>\n",
       "    </tr>\n",
       "    <tr>\n",
       "      <th>3</th>\n",
       "      <td>02c2a74b-e061-4bc3-8c52-61a8109326c9</td>\n",
       "      <td>{'identification': '!!! The User has been veri...</td>\n",
       "      <td>35</td>\n",
       "      <td>Showrob Medero Diaz</td>\n",
       "      <td>False</td>\n",
       "      <td>other</td>\n",
       "      <td>True</td>\n",
       "      <td>age</td>\n",
       "      <td>main_run</td>\n",
       "      <td>4</td>\n",
       "      <td>...</td>\n",
       "      <td>NaN</td>\n",
       "      <td>NaN</td>\n",
       "      <td>NaN</td>\n",
       "      <td>NaN</td>\n",
       "      <td>NaN</td>\n",
       "      <td>NaN</td>\n",
       "      <td>NaN</td>\n",
       "      <td>NaN</td>\n",
       "      <td>NaN</td>\n",
       "      <td>NaN</td>\n",
       "    </tr>\n",
       "    <tr>\n",
       "      <th>4</th>\n",
       "      <td>7deb504e-45ae-47b5-88d6-c08e6e6b11c5</td>\n",
       "      <td>{'identification': '!!! The User has been veri...</td>\n",
       "      <td>43</td>\n",
       "      <td>Aiub Abhijeet</td>\n",
       "      <td>False</td>\n",
       "      <td>other</td>\n",
       "      <td>True</td>\n",
       "      <td>age</td>\n",
       "      <td>main_run</td>\n",
       "      <td>5</td>\n",
       "      <td>...</td>\n",
       "      <td>NaN</td>\n",
       "      <td>NaN</td>\n",
       "      <td>NaN</td>\n",
       "      <td>NaN</td>\n",
       "      <td>NaN</td>\n",
       "      <td>NaN</td>\n",
       "      <td>NaN</td>\n",
       "      <td>NaN</td>\n",
       "      <td>NaN</td>\n",
       "      <td>NaN</td>\n",
       "    </tr>\n",
       "  </tbody>\n",
       "</table>\n",
       "<p>5 rows × 33 columns</p>\n",
       "</div>"
      ],
      "text/plain": [
       "                                     id  \\\n",
       "0  58194e57-da9e-49d7-ab4e-bf77ba69c03c   \n",
       "1  4ee83f45-4877-40ba-82f1-f0df0f597598   \n",
       "2  98ad940b-6ef4-413d-82b0-82daf91606c7   \n",
       "3  02c2a74b-e061-4bc3-8c52-61a8109326c9   \n",
       "4  7deb504e-45ae-47b5-88d6-c08e6e6b11c5   \n",
       "\n",
       "                                   input_unformatted truth  \\\n",
       "0  {'identification': '!!! The User has been veri...    38   \n",
       "1  {'identification': '!!! The User has been veri...    60   \n",
       "2  {'identification': '!!! The User has been veri...    18   \n",
       "3  {'identification': '!!! The User has been veri...    35   \n",
       "4  {'identification': '!!! The User has been veri...    43   \n",
       "\n",
       "        truth.employee  missing perspective  malicious questionnaire  \\\n",
       "0       Kripal Moorthy    False       other       True           age   \n",
       "1     Taniya Kalyankar    False       other       True           age   \n",
       "2        Tasfi Durakii    False       other       True           age   \n",
       "3  Showrob Medero Diaz    False       other       True           age   \n",
       "4        Aiub Abhijeet    False       other       True           age   \n",
       "\n",
       "      runid  iter  ... done_reason date created  system_fingerprint usage  \\\n",
       "0  main_run     1  ...         NaN  NaN     NaN                 NaN   NaN   \n",
       "1  main_run     2  ...         NaN  NaN     NaN                 NaN   NaN   \n",
       "2  main_run     3  ...         NaN  NaN     NaN                 NaN   NaN   \n",
       "3  main_run     4  ...         NaN  NaN     NaN                 NaN   NaN   \n",
       "4  main_run     5  ...         NaN  NaN     NaN                 NaN   NaN   \n",
       "\n",
       "  object model.1  choices.1 provider user_id  \n",
       "0    NaN     NaN        NaN      NaN     NaN  \n",
       "1    NaN     NaN        NaN      NaN     NaN  \n",
       "2    NaN     NaN        NaN      NaN     NaN  \n",
       "3    NaN     NaN        NaN      NaN     NaN  \n",
       "4    NaN     NaN        NaN      NaN     NaN  \n",
       "\n",
       "[5 rows x 33 columns]"
      ]
     },
     "execution_count": 3,
     "metadata": {},
     "output_type": "execute_result"
    }
   ],
   "source": [
    "df.head()"
   ]
  },
  {
   "cell_type": "markdown",
   "metadata": {},
   "source": [
    "# Overall grading"
   ]
  },
  {
   "cell_type": "code",
   "execution_count": 4,
   "metadata": {},
   "outputs": [
    {
     "name": "stdout",
     "output_type": "stream",
     "text": [
      "model                         grade\n",
      "DeepSeek-R1-Distill-Qwen-32B  -1       0.044000\n",
      "                               1       0.645619\n",
      "                               2       0.029429\n",
      "                               3       0.280952\n",
      "GPT-4o                        -1       0.000190\n",
      "                               1       0.707238\n",
      "                               2       0.036190\n",
      "                               3       0.256381\n",
      "GPT-4o-mini                   -1       0.000476\n",
      "                               1       0.459810\n",
      "                               2       0.358857\n",
      "                               3       0.180857\n",
      "Llama-3.2-3B-Instruct         -1       0.070571\n",
      "                               1       0.290857\n",
      "                               2       0.136857\n",
      "                               3       0.501714\n",
      "Llama-3.3-70B-Instruct        -1       0.007048\n",
      "                               1       0.608095\n",
      "                               2       0.001619\n",
      "                               3       0.383238\n",
      "grok-2                        -1       0.000660\n",
      "                               1       0.807692\n",
      "                               2       0.001486\n",
      "                               3       0.190162\n",
      "phi-4                         -1       0.068190\n",
      "                               1       0.594286\n",
      "                               2       0.068190\n",
      "                               3       0.269333\n"
     ]
    }
   ],
   "source": [
    "relative_counts = df[['grade', 'model']].groupby('model').value_counts(normalize=True).sort_index()\n",
    "print(relative_counts.to_string())"
   ]
  },
  {
   "cell_type": "markdown",
   "metadata": {},
   "source": [
    "## Department"
   ]
  },
  {
   "cell_type": "code",
   "execution_count": 5,
   "metadata": {},
   "outputs": [
    {
     "name": "stdout",
     "output_type": "stream",
     "text": [
      "model                         grade\n",
      "GPT-4o                         1       0.612000\n",
      "                               2       0.031333\n",
      "                               3       0.356667\n",
      "GPT-4o-mini                    1       0.468000\n",
      "                               2       0.330000\n",
      "                               3       0.202000\n",
      "grok-2                         1       0.624000\n",
      "                               3       0.376000\n",
      "Llama-3.3-70B-Instruct         1       0.502667\n",
      "                               3       0.497333\n",
      "DeepSeek-R1-Distill-Qwen-32B  -1       0.019333\n",
      "                               1       0.530000\n",
      "                               2       0.001333\n",
      "                               3       0.449333\n",
      "phi-4                         -1       0.032000\n",
      "                               1       0.532667\n",
      "                               2       0.022000\n",
      "                               3       0.413333\n",
      "Llama-3.2-3B-Instruct         -1       0.116667\n",
      "                               1       0.235333\n",
      "                               2       0.152000\n",
      "                               3       0.496000\n"
     ]
    }
   ],
   "source": [
    "# Filter the dataframe for rows where questionnaire is \"department\"\n",
    "df_department = df[df['questionnaire'] == 'department']\n",
    "\n",
    "# Calculate the relative counts\n",
    "relative_counts = df_department[['grade', 'model']].groupby('model').value_counts(normalize=True).sort_index()\n",
    "\n",
    "# Reorder the relative counts to follow the order in model_names\n",
    "relative_counts = relative_counts.reindex(model_names, level=0)\n",
    "\n",
    "print(relative_counts.to_string())"
   ]
  },
  {
   "cell_type": "markdown",
   "metadata": {},
   "source": [
    "## Age"
   ]
  },
  {
   "cell_type": "code",
   "execution_count": 6,
   "metadata": {},
   "outputs": [
    {
     "name": "stdout",
     "output_type": "stream",
     "text": [
      "model                         grade\n",
      "GPT-4o                         1       0.742000\n",
      "                               2       0.057333\n",
      "                               3       0.200667\n",
      "GPT-4o-mini                    1       0.372000\n",
      "                               2       0.576667\n",
      "                               3       0.051333\n",
      "grok-2                         1       0.999333\n",
      "                               3       0.000667\n",
      "Llama-3.3-70B-Instruct         1       0.510667\n",
      "                               3       0.489333\n",
      "DeepSeek-R1-Distill-Qwen-32B  -1       0.028000\n",
      "                               1       0.668667\n",
      "                               2       0.021333\n",
      "                               3       0.282000\n",
      "phi-4                         -1       0.072667\n",
      "                               1       0.552000\n",
      "                               2       0.122000\n",
      "                               3       0.253333\n",
      "Llama-3.2-3B-Instruct         -1       0.031333\n",
      "                               1       0.163333\n",
      "                               2       0.379333\n",
      "                               3       0.426000\n"
     ]
    }
   ],
   "source": [
    "# Filter the dataframe for rows where questionnaire is \"age\"\n",
    "df_age = df[df['questionnaire'] == 'age']\n",
    "\n",
    "# Calculate the relative counts\n",
    "relative_counts = df_age[['grade', 'model']].groupby('model').value_counts(normalize=True).sort_index()\n",
    "\n",
    "# Reorder the relative counts to follow the order in model_names\n",
    "relative_counts = relative_counts.reindex(model_names, level=0)\n",
    "\n",
    "print(relative_counts.to_string())"
   ]
  },
  {
   "cell_type": "markdown",
   "metadata": {},
   "source": [
    "## Marital Status"
   ]
  },
  {
   "cell_type": "code",
   "execution_count": 7,
   "metadata": {},
   "outputs": [
    {
     "name": "stdout",
     "output_type": "stream",
     "text": [
      "model                         grade\n",
      "GPT-4o                         1       0.741333\n",
      "                               3       0.258667\n",
      "GPT-4o-mini                    1       0.431333\n",
      "                               2       0.106667\n",
      "                               3       0.462000\n",
      "grok-2                         1       1.000000\n",
      "Llama-3.3-70B-Instruct         1       0.572667\n",
      "                               3       0.427333\n",
      "DeepSeek-R1-Distill-Qwen-32B  -1       0.054000\n",
      "                               1       0.828667\n",
      "                               2       0.010000\n",
      "                               3       0.107333\n",
      "phi-4                         -1       0.094667\n",
      "                               1       0.647333\n",
      "                               2       0.090000\n",
      "                               3       0.168000\n",
      "Llama-3.2-3B-Instruct         -1       0.072000\n",
      "                               1       0.283333\n",
      "                               2       0.038667\n",
      "                               3       0.606000\n"
     ]
    }
   ],
   "source": [
    "# Filter the dataframe for rows where questionnaire is \"marital_status\"\n",
    "df_marital_status = df[df['questionnaire'] == 'marital_status']\n",
    "\n",
    "# Calculate the relative counts\n",
    "relative_counts = df_marital_status[['grade', 'model']].groupby('model').value_counts(normalize=True).sort_index()\n",
    "\n",
    "# Reorder the relative counts to follow the order in model_names\n",
    "relative_counts = relative_counts.reindex(model_names, level=0)\n",
    "\n",
    "print(relative_counts.to_string())"
   ]
  },
  {
   "cell_type": "markdown",
   "metadata": {},
   "source": [
    "## Salary"
   ]
  },
  {
   "cell_type": "code",
   "execution_count": 7,
   "metadata": {},
   "outputs": [
    {
     "name": "stdout",
     "output_type": "stream",
     "text": [
      "model                         grade\n",
      "GPT-4o                         1       0.999333\n",
      "                               2       0.000667\n",
      "GPT-4o-mini                    1       0.932000\n",
      "                               3       0.068000\n",
      "grok-2                         1       1.000000\n",
      "Llama-3.3-70B-Instruct         1       0.974000\n",
      "                               3       0.026000\n",
      "DeepSeek-R1-Distill-Qwen-32B  -1       0.052667\n",
      "                               1       0.871333\n",
      "                               2       0.038000\n",
      "                               3       0.038000\n",
      "phi-4                         -1       0.024667\n",
      "                               1       0.887333\n",
      "                               2       0.054000\n",
      "                               3       0.034000\n",
      "Llama-3.2-3B-Instruct         -1       0.010667\n",
      "                               1       0.450667\n",
      "                               2       0.080667\n",
      "                               3       0.458000\n"
     ]
    }
   ],
   "source": [
    "# Filter the dataframe for rows where questionnaire is \"salary\"\n",
    "df_salary = df[df['questionnaire'] == 'salary']\n",
    "\n",
    "# Calculate the relative counts\n",
    "relative_counts = df_salary[['grade', 'model']].groupby('model').value_counts(normalize=True).sort_index()\n",
    "\n",
    "# Reorder the relative counts to follow the order in model_names\n",
    "relative_counts = relative_counts.reindex(model_names, level=0)\n",
    "\n",
    "print(relative_counts.to_string())"
   ]
  },
  {
   "cell_type": "markdown",
   "metadata": {},
   "source": [
    "## Supervisor"
   ]
  },
  {
   "cell_type": "code",
   "execution_count": 8,
   "metadata": {},
   "outputs": [
    {
     "name": "stdout",
     "output_type": "stream",
     "text": [
      "model                         grade\n",
      "GPT-4o                         1       0.676667\n",
      "                               2       0.053333\n",
      "                               3       0.270000\n",
      "GPT-4o-mini                   -1       0.001333\n",
      "                               1       0.502000\n",
      "                               2       0.374000\n",
      "                               3       0.122667\n",
      "grok-2                         1       0.934995\n",
      "                               3       0.065005\n",
      "Llama-3.3-70B-Instruct         1       0.505333\n",
      "                               3       0.494667\n",
      "DeepSeek-R1-Distill-Qwen-32B  -1       0.030667\n",
      "                               1       0.579333\n",
      "                               2       0.010667\n",
      "                               3       0.379333\n",
      "phi-4                         -1       0.041333\n",
      "                               1       0.544667\n",
      "                               2       0.014000\n",
      "                               3       0.400000\n",
      "Llama-3.2-3B-Instruct         -1       0.068667\n",
      "                               1       0.235333\n",
      "                               2       0.050667\n",
      "                               3       0.645333\n"
     ]
    }
   ],
   "source": [
    "# Filter the dataframe for rows where questionnaire is \"supervisor\"\n",
    "df_supervisor = df[df['questionnaire'] == 'supervisor']\n",
    "\n",
    "# Calculate the relative counts\n",
    "relative_counts = df_supervisor[['grade', 'model']].groupby('model').value_counts(normalize=True).sort_index()\n",
    "\n",
    "# Reorder the relative counts to follow the order in model_names\n",
    "relative_counts = relative_counts.reindex(model_names, level=0)\n",
    "\n",
    "print(relative_counts.to_string())"
   ]
  },
  {
   "cell_type": "markdown",
   "metadata": {},
   "source": [
    "## Name"
   ]
  },
  {
   "cell_type": "code",
   "execution_count": 9,
   "metadata": {},
   "outputs": [
    {
     "name": "stdout",
     "output_type": "stream",
     "text": [
      "model                         grade\n",
      "GPT-4o                         1       0.660000\n",
      "                               2       0.091333\n",
      "                               3       0.248667\n",
      "GPT-4o-mini                   -1       0.000667\n",
      "                               1       0.095333\n",
      "                               2       0.860667\n",
      "                               3       0.043333\n",
      "grok-2                        -1       0.076923\n",
      "                               1       0.923077\n",
      "Llama-3.3-70B-Instruct        -1       0.043333\n",
      "                               1       0.492667\n",
      "                               2       0.001333\n",
      "                               3       0.462667\n",
      "DeepSeek-R1-Distill-Qwen-32B  -1       0.084000\n",
      "                               1       0.523333\n",
      "                               2       0.017333\n",
      "                               3       0.375333\n",
      "phi-4                         -1       0.170667\n",
      "                               1       0.473333\n",
      "                               2       0.030667\n",
      "                               3       0.325333\n",
      "Llama-3.2-3B-Instruct         -1       0.149333\n",
      "                               1       0.238000\n",
      "                               2       0.193333\n",
      "                               3       0.419333\n"
     ]
    }
   ],
   "source": [
    "# Filter the dataframe for rows where questionnaire is \"name\"\n",
    "df_name = df[df['questionnaire'] == 'name']\n",
    "\n",
    "# Calculate the relative counts\n",
    "relative_counts = df_name[['grade', 'model']].groupby('model').value_counts(normalize=True).sort_index()\n",
    "\n",
    "# Reorder the relative counts to follow the order in model_names\n",
    "relative_counts = relative_counts.reindex(model_names, level=0)\n",
    "\n",
    "print(relative_counts.to_string())"
   ]
  },
  {
   "cell_type": "markdown",
   "metadata": {},
   "source": [
    "# Benign"
   ]
  },
  {
   "cell_type": "code",
   "execution_count": 10,
   "metadata": {},
   "outputs": [
    {
     "name": "stdout",
     "output_type": "stream",
     "text": [
      "model                         grade\n",
      "DeepSeek-R1-Distill-Qwen-32B  -1       0.024952\n",
      "                               1       0.945905\n",
      "                               2       0.017333\n",
      "                               3       0.011810\n",
      "GPT-4o                        -1       0.000381\n",
      "                               1       0.838857\n",
      "                               2       0.024381\n",
      "                               3       0.136381\n",
      "GPT-4o-mini                   -1       0.000571\n",
      "                               1       0.573333\n",
      "                               2       0.233714\n",
      "                               3       0.192381\n",
      "Llama-3.2-3B-Instruct         -1       0.053524\n",
      "                               1       0.480952\n",
      "                               2       0.176762\n",
      "                               3       0.288762\n",
      "Llama-3.3-70B-Instruct        -1       0.004762\n",
      "                               1       0.975429\n",
      "                               3       0.019810\n",
      "grok-2                        -1       0.001005\n",
      "                               1       0.950100\n",
      "                               2       0.000335\n",
      "                               3       0.048560\n",
      "phi-4                         -1       0.061905\n",
      "                               1       0.842667\n",
      "                               2       0.029905\n",
      "                               3       0.065524\n"
     ]
    }
   ],
   "source": [
    "df_benign = df[df['malicious'] == False]\n",
    "relative_counts = df_benign[['grade', 'model']].groupby('model').value_counts(normalize=True).sort_index()\n",
    "print(relative_counts.to_string())"
   ]
  },
  {
   "cell_type": "markdown",
   "metadata": {},
   "source": [
    "# Malicious"
   ]
  },
  {
   "cell_type": "code",
   "execution_count": 11,
   "metadata": {},
   "outputs": [
    {
     "name": "stdout",
     "output_type": "stream",
     "text": [
      "model                         grade\n",
      "DeepSeek-R1-Distill-Qwen-32B  -1       0.063048\n",
      "                               1       0.345333\n",
      "                               2       0.041524\n",
      "                               3       0.550095\n",
      "GPT-4o                         1       0.575619\n",
      "                               2       0.048000\n",
      "                               3       0.376381\n",
      "GPT-4o-mini                   -1       0.000381\n",
      "                               1       0.346286\n",
      "                               2       0.484000\n",
      "                               3       0.169333\n",
      "Llama-3.2-3B-Instruct         -1       0.087619\n",
      "                               1       0.100762\n",
      "                               2       0.096952\n",
      "                               3       0.714667\n",
      "Llama-3.3-70B-Instruct        -1       0.009333\n",
      "                               1       0.240762\n",
      "                               2       0.003238\n",
      "                               3       0.746667\n",
      "grok-2                        -1       0.000326\n",
      "                               1       0.669271\n",
      "                               2       0.002604\n",
      "                               3       0.327799\n",
      "phi-4                         -1       0.074476\n",
      "                               1       0.345905\n",
      "                               2       0.106476\n",
      "                               3       0.473143\n"
     ]
    }
   ],
   "source": [
    "df_malicious = df[df['malicious'] == True]\n",
    "relative_counts = df_malicious[['grade', 'model']].groupby('model').value_counts(normalize=True).sort_index()\n",
    "print(relative_counts.to_string())"
   ]
  },
  {
   "cell_type": "code",
   "execution_count": 12,
   "metadata": {},
   "outputs": [
    {
     "data": {
      "text/plain": [
       "4938.857142857143"
      ]
     },
     "execution_count": 12,
     "metadata": {},
     "output_type": "execute_result"
    }
   ],
   "source": [
    "len(df_malicious) / 7"
   ]
  },
  {
   "cell_type": "code",
   "execution_count": 13,
   "metadata": {},
   "outputs": [
    {
     "ename": "ModuleNotFoundError",
     "evalue": "No module named 'matplotlib'",
     "output_type": "error",
     "traceback": [
      "\u001b[0;31m---------------------------------------------------------------------------\u001b[0m",
      "\u001b[0;31mModuleNotFoundError\u001b[0m                       Traceback (most recent call last)",
      "Cell \u001b[0;32mIn[13], line 1\u001b[0m\n\u001b[0;32m----> 1\u001b[0m \u001b[38;5;28;01mimport\u001b[39;00m\u001b[38;5;250m \u001b[39m\u001b[38;5;21;01mmatplotlib\u001b[39;00m\u001b[38;5;21;01m.\u001b[39;00m\u001b[38;5;21;01mpyplot\u001b[39;00m\u001b[38;5;250m \u001b[39m\u001b[38;5;28;01mas\u001b[39;00m\u001b[38;5;250m \u001b[39m\u001b[38;5;21;01mplt\u001b[39;00m\n\u001b[1;32m      3\u001b[0m \u001b[38;5;66;03m# Plot the bar chart with different colors for each grade\u001b[39;00m\n\u001b[1;32m      4\u001b[0m ax \u001b[38;5;241m=\u001b[39m df_custom\u001b[38;5;241m.\u001b[39mplot(kind\u001b[38;5;241m=\u001b[39m\u001b[38;5;124m'\u001b[39m\u001b[38;5;124mbar\u001b[39m\u001b[38;5;124m'\u001b[39m, stacked\u001b[38;5;241m=\u001b[39m\u001b[38;5;28;01mTrue\u001b[39;00m, color\u001b[38;5;241m=\u001b[39m[\u001b[38;5;124m'\u001b[39m\u001b[38;5;124mblue\u001b[39m\u001b[38;5;124m'\u001b[39m, \u001b[38;5;124m'\u001b[39m\u001b[38;5;124morange\u001b[39m\u001b[38;5;124m'\u001b[39m], figsize\u001b[38;5;241m=\u001b[39m(\u001b[38;5;241m10\u001b[39m, \u001b[38;5;241m6\u001b[39m))\n",
      "\u001b[0;31mModuleNotFoundError\u001b[0m: No module named 'matplotlib'"
     ]
    }
   ],
   "source": [
    "import matplotlib.pyplot as plt\n",
    "\n",
    "# Plot the bar chart with different colors for each grade\n",
    "ax = df_custom.plot(kind='bar', stacked=True, color=['blue', 'orange'], figsize=(10, 6))\n",
    "\n",
    "# Add labels and title\n",
    "plt.xlabel('Model', fontsize=12)\n",
    "plt.ylabel('Percentage of Grades 2 and 3', fontsize=12)\n",
    "plt.title('Rates of Failure (Error vs. Leak)', fontsize=14)\n",
    "\n",
    "# Add legend\n",
    "plt.legend(title='Failure Mode', title_fontsize='13', fontsize='11')\n",
    "\n",
    "# Rotate x-axis labels for better readability\n",
    "plt.xticks(rotation=45, ha='right')\n",
    "\n",
    "# Add gridlines for better readability\n",
    "plt.grid(axis='y', linestyle='--', alpha=0.7)\n",
    "\n",
    "# Show the plot\n",
    "plt.tight_layout()\n",
    "plt.show()\n"
   ]
  },
  {
   "cell_type": "code",
   "execution_count": 20,
   "metadata": {},
   "outputs": [
    {
     "data": {
      "image/png": "[encoded data removed]",
      "text/plain": [
       "<Figure size 1000x600 with 1 Axes>"
      ]
     },
     "metadata": {},
     "output_type": "display_data"
    }
   ],
   "source": [
    "import pandas as pd\n",
    "import matplotlib.pyplot as plt\n",
    "\n",
    "# Define your own model names and values per category\n",
    "model_names = ['GPT-4o', 'GPT-4o mini', 'Grok-2', 'Llama 3.3', 'R1-Qwen', 'Phi-4', 'Llama 3.2']\n",
    "values_per_category = {\n",
    "    'GPT-4o': [0.0048, 0.3763],\n",
    "    'GPT-4o mini': [0.4840, 0.1693],\n",
    "    'Grok-2': [0.0026, 0.3277],\n",
    "    'Llama 3.3': [0.0032, 0.7466],\n",
    "    'R1-Qwen': [0.0415, 0.5501],\n",
    "    'Phi-4': [0.1064, 0.4731],\n",
    "    'Llama 3.2': [0.0969, 0.7146],\n",
    "}\n",
    "\n",
    "# Create a dataframe from the values\n",
    "df_custom = pd.DataFrame(values_per_category, index=[\"Error\", \"Wrong\"]).T\n",
    "\n",
    "\n",
    "# Plot the bar chart with different colors for each grade\n",
    "ax = df_custom.plot(kind='bar', stacked=True, color=['blue', 'orange'], figsize=(10, 6))\n",
    "\n",
    "# Add labels and title\n",
    "plt.xlabel('Model', fontsize=12)\n",
    "plt.ylabel('Rates of Failure', fontsize=12)\n",
    "plt.title('Rates of Failure (Error vs. Leak)', fontsize=14)\n",
    "\n",
    "# Add legend\n",
    "plt.legend(title='Failure Mode', title_fontsize='13', fontsize='11')\n",
    "\n",
    "# Rotate x-axis labels for better readability\n",
    "plt.xticks(rotation=45, ha='right')\n",
    "\n",
    "# Add gridlines for better readability\n",
    "plt.grid(axis='y', linestyle='--', alpha=0.7)\n",
    "\n",
    "# Show the plot\n",
    "plt.tight_layout()\n",
    "plt.show()"
   ]
  },
  {
   "cell_type": "markdown",
   "metadata": {},
   "source": [
    "# From Supervisor"
   ]
  },
  {
   "cell_type": "code",
   "execution_count": 14,
   "metadata": {},
   "outputs": [
    {
     "data": {
      "text/plain": [
       "array(['other', 'self', 'supervisor'], dtype=object)"
      ]
     },
     "execution_count": 14,
     "metadata": {},
     "output_type": "execute_result"
    }
   ],
   "source": [
    "# Get all possible values of the \"perspective\" column\n",
    "df['perspective'].unique()"
   ]
  },
  {
   "cell_type": "code",
   "execution_count": 15,
   "metadata": {},
   "outputs": [
    {
     "name": "stdout",
     "output_type": "stream",
     "text": [
      "model                         grade\n",
      "DeepSeek-R1-Distill-Qwen-32B  -1       0.025333\n",
      "                               1       0.900000\n",
      "                               2       0.016000\n",
      "                               3       0.058667\n",
      "GPT-4o                        -1       0.002667\n",
      "                               1       0.593333\n",
      "                               2       0.036000\n",
      "                               3       0.368000\n",
      "GPT-4o-mini                   -1       0.002667\n",
      "                               1       0.329333\n",
      "                               2       0.518667\n",
      "                               3       0.149333\n",
      "Llama-3.2-3B-Instruct         -1       0.078667\n",
      "                               1       0.822667\n",
      "                               2       0.046667\n",
      "                               3       0.052000\n",
      "Llama-3.3-70B-Instruct        -1       0.012000\n",
      "                               1       0.944000\n",
      "                               3       0.044000\n",
      "grok-2                        -1       0.004000\n",
      "                               1       0.801333\n",
      "                               2       0.001333\n",
      "                               3       0.193333\n",
      "phi-4                         -1       0.066667\n",
      "                               1       0.661333\n",
      "                               2       0.058667\n",
      "                               3       0.213333\n"
     ]
    }
   ],
   "source": [
    "df_supervisor = df[df['perspective'] == 'supervisor']\n",
    "relative_counts = df_supervisor[['grade', 'model']].groupby('model').value_counts(normalize=True).sort_index()\n",
    "print(relative_counts.to_string())"
   ]
  },
  {
   "cell_type": "markdown",
   "metadata": {},
   "source": [
    "# Lying"
   ]
  },
  {
   "cell_type": "code",
   "execution_count": 16,
   "metadata": {},
   "outputs": [
    {
     "data": {
      "text/plain": [
       "array(['age', 'department', 'marital_status', 'name', 'salary',\n",
       "       'supervisor', 'from_supervisor_marital_status',\n",
       "       'from_supervisor_age', 'from_supervisor_name',\n",
       "       'from_supervisor_department', 'from_supervisor_supervisor',\n",
       "       'from_supervisor_salary', 'lying'], dtype=object)"
      ]
     },
     "execution_count": 16,
     "metadata": {},
     "output_type": "execute_result"
    }
   ],
   "source": [
    "df['questionnaire'].unique()"
   ]
  },
  {
   "cell_type": "code",
   "execution_count": 17,
   "metadata": {},
   "outputs": [
    {
     "name": "stdout",
     "output_type": "stream",
     "text": [
      "model                         grade\n",
      "DeepSeek-R1-Distill-Qwen-32B  -1       0.053333\n",
      "                               1       0.136000\n",
      "                               2       0.198667\n",
      "                               3       0.612000\n",
      "GPT-4o                         1       0.445333\n",
      "                               2       0.002667\n",
      "                               3       0.552000\n",
      "GPT-4o-mini                    1       0.506667\n",
      "                               2       0.009333\n",
      "                               3       0.484000\n",
      "Llama-3.2-3B-Instruct         -1       0.012000\n",
      "                               1       0.037333\n",
      "                               2       0.080000\n",
      "                               3       0.870667\n",
      "Llama-3.3-70B-Instruct         1       0.453333\n",
      "                               2       0.020000\n",
      "                               3       0.526667\n",
      "grok-2                         1       0.480000\n",
      "                               2       0.010667\n",
      "                               3       0.509333\n",
      "phi-4                         -1       0.016000\n",
      "                               1       0.384000\n",
      "                               2       0.230667\n",
      "                               3       0.369333\n"
     ]
    }
   ],
   "source": [
    "df_lying = df[df['questionnaire'] == 'lying']\n",
    "relative_counts = df_lying[['grade', 'model']].groupby('model').value_counts(normalize=True).sort_index()\n",
    "print(relative_counts.to_string())"
   ]
  }
 ],
 "metadata": {
  "kernelspec": {
   "display_name": "acl2025",
   "language": "python",
   "name": "python3"
  },
  "language_info": {
   "codemirror_mode": {
    "name": "ipython",
    "version": 3
   },
   "file_extension": ".py",
   "mimetype": "text/x-python",
   "name": "python",
   "nbconvert_exporter": "python",
   "pygments_lexer": "ipython3",
   "version": "3.10.16"
  }
 },
 "nbformat": 4,
 "nbformat_minor": 2
}
